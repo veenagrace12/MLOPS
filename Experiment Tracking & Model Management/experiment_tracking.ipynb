{
 "cells": [
  {
   "cell_type": "markdown",
   "id": "479e2e9d",
   "metadata": {},
   "source": [
    "# Experiment Tracking using MLFlow"
   ]
  },
  {
   "cell_type": "code",
   "execution_count": 67,
   "id": "def90e0d",
   "metadata": {},
   "outputs": [],
   "source": [
    "import pandas as pd\n",
    "import numpy as np\n",
    "import matplotlib.pyplot as plt\n",
    "import seaborn as sns\n",
    "import warnings\n",
    "warnings.filterwarnings('ignore')"
   ]
  },
  {
   "cell_type": "code",
   "execution_count": 68,
   "id": "42015dbf",
   "metadata": {
    "scrolled": true
   },
   "outputs": [
    {
     "data": {
      "text/html": [
       "<div>\n",
       "<style scoped>\n",
       "    .dataframe tbody tr th:only-of-type {\n",
       "        vertical-align: middle;\n",
       "    }\n",
       "\n",
       "    .dataframe tbody tr th {\n",
       "        vertical-align: top;\n",
       "    }\n",
       "\n",
       "    .dataframe thead th {\n",
       "        text-align: right;\n",
       "    }\n",
       "</style>\n",
       "<table border=\"1\" class=\"dataframe\">\n",
       "  <thead>\n",
       "    <tr style=\"text-align: right;\">\n",
       "      <th></th>\n",
       "      <th>carat</th>\n",
       "      <th>cut</th>\n",
       "      <th>color</th>\n",
       "      <th>clarity</th>\n",
       "      <th>depth</th>\n",
       "      <th>table</th>\n",
       "      <th>price</th>\n",
       "      <th>x</th>\n",
       "      <th>y</th>\n",
       "      <th>z</th>\n",
       "    </tr>\n",
       "  </thead>\n",
       "  <tbody>\n",
       "    <tr>\n",
       "      <th>0</th>\n",
       "      <td>0.23</td>\n",
       "      <td>Ideal</td>\n",
       "      <td>E</td>\n",
       "      <td>SI2</td>\n",
       "      <td>61.5</td>\n",
       "      <td>55.0</td>\n",
       "      <td>326</td>\n",
       "      <td>3.95</td>\n",
       "      <td>3.98</td>\n",
       "      <td>2.43</td>\n",
       "    </tr>\n",
       "    <tr>\n",
       "      <th>1</th>\n",
       "      <td>0.21</td>\n",
       "      <td>Premium</td>\n",
       "      <td>E</td>\n",
       "      <td>SI1</td>\n",
       "      <td>59.8</td>\n",
       "      <td>61.0</td>\n",
       "      <td>326</td>\n",
       "      <td>3.89</td>\n",
       "      <td>3.84</td>\n",
       "      <td>2.31</td>\n",
       "    </tr>\n",
       "    <tr>\n",
       "      <th>2</th>\n",
       "      <td>0.23</td>\n",
       "      <td>Good</td>\n",
       "      <td>E</td>\n",
       "      <td>VS1</td>\n",
       "      <td>56.9</td>\n",
       "      <td>65.0</td>\n",
       "      <td>327</td>\n",
       "      <td>4.05</td>\n",
       "      <td>4.07</td>\n",
       "      <td>2.31</td>\n",
       "    </tr>\n",
       "    <tr>\n",
       "      <th>3</th>\n",
       "      <td>0.29</td>\n",
       "      <td>Premium</td>\n",
       "      <td>I</td>\n",
       "      <td>VS2</td>\n",
       "      <td>62.4</td>\n",
       "      <td>58.0</td>\n",
       "      <td>334</td>\n",
       "      <td>4.20</td>\n",
       "      <td>4.23</td>\n",
       "      <td>2.63</td>\n",
       "    </tr>\n",
       "    <tr>\n",
       "      <th>4</th>\n",
       "      <td>0.31</td>\n",
       "      <td>Good</td>\n",
       "      <td>J</td>\n",
       "      <td>SI2</td>\n",
       "      <td>63.3</td>\n",
       "      <td>58.0</td>\n",
       "      <td>335</td>\n",
       "      <td>4.34</td>\n",
       "      <td>4.35</td>\n",
       "      <td>2.75</td>\n",
       "    </tr>\n",
       "  </tbody>\n",
       "</table>\n",
       "</div>"
      ],
      "text/plain": [
       "   carat      cut color clarity  depth  table  price     x     y     z\n",
       "0   0.23    Ideal     E     SI2   61.5   55.0    326  3.95  3.98  2.43\n",
       "1   0.21  Premium     E     SI1   59.8   61.0    326  3.89  3.84  2.31\n",
       "2   0.23     Good     E     VS1   56.9   65.0    327  4.05  4.07  2.31\n",
       "3   0.29  Premium     I     VS2   62.4   58.0    334  4.20  4.23  2.63\n",
       "4   0.31     Good     J     SI2   63.3   58.0    335  4.34  4.35  2.75"
      ]
     },
     "execution_count": 68,
     "metadata": {},
     "output_type": "execute_result"
    }
   ],
   "source": [
    "df=pd.read_csv('data/diamonds.csv')\n",
    "df.head()"
   ]
  },
  {
   "cell_type": "code",
   "execution_count": 69,
   "id": "2f0d7ca2",
   "metadata": {},
   "outputs": [
    {
     "data": {
      "text/plain": [
       "(53940, 10)"
      ]
     },
     "execution_count": 69,
     "metadata": {},
     "output_type": "execute_result"
    }
   ],
   "source": [
    "df.shape"
   ]
  },
  {
   "cell_type": "code",
   "execution_count": 70,
   "id": "108051ef",
   "metadata": {},
   "outputs": [
    {
     "name": "stdout",
     "output_type": "stream",
     "text": [
      "<class 'pandas.core.frame.DataFrame'>\n",
      "RangeIndex: 53940 entries, 0 to 53939\n",
      "Data columns (total 10 columns):\n",
      " #   Column   Non-Null Count  Dtype  \n",
      "---  ------   --------------  -----  \n",
      " 0   carat    53940 non-null  float64\n",
      " 1   cut      53940 non-null  object \n",
      " 2   color    53940 non-null  object \n",
      " 3   clarity  53940 non-null  object \n",
      " 4   depth    53940 non-null  float64\n",
      " 5   table    53940 non-null  float64\n",
      " 6   price    53940 non-null  int64  \n",
      " 7   x        53940 non-null  float64\n",
      " 8   y        53940 non-null  float64\n",
      " 9   z        53940 non-null  float64\n",
      "dtypes: float64(6), int64(1), object(3)\n",
      "memory usage: 4.1+ MB\n"
     ]
    }
   ],
   "source": [
    "df.info()"
   ]
  },
  {
   "cell_type": "code",
   "execution_count": 71,
   "id": "1cd730cd",
   "metadata": {},
   "outputs": [
    {
     "data": {
      "text/html": [
       "<div>\n",
       "<style scoped>\n",
       "    .dataframe tbody tr th:only-of-type {\n",
       "        vertical-align: middle;\n",
       "    }\n",
       "\n",
       "    .dataframe tbody tr th {\n",
       "        vertical-align: top;\n",
       "    }\n",
       "\n",
       "    .dataframe thead th {\n",
       "        text-align: right;\n",
       "    }\n",
       "</style>\n",
       "<table border=\"1\" class=\"dataframe\">\n",
       "  <thead>\n",
       "    <tr style=\"text-align: right;\">\n",
       "      <th></th>\n",
       "      <th>carat</th>\n",
       "      <th>depth</th>\n",
       "      <th>table</th>\n",
       "      <th>price</th>\n",
       "      <th>x</th>\n",
       "      <th>y</th>\n",
       "      <th>z</th>\n",
       "    </tr>\n",
       "  </thead>\n",
       "  <tbody>\n",
       "    <tr>\n",
       "      <th>count</th>\n",
       "      <td>53940.000000</td>\n",
       "      <td>53940.000000</td>\n",
       "      <td>53940.000000</td>\n",
       "      <td>53940.000000</td>\n",
       "      <td>53940.000000</td>\n",
       "      <td>53940.000000</td>\n",
       "      <td>53940.000000</td>\n",
       "    </tr>\n",
       "    <tr>\n",
       "      <th>mean</th>\n",
       "      <td>0.797940</td>\n",
       "      <td>61.749405</td>\n",
       "      <td>57.457184</td>\n",
       "      <td>3932.799722</td>\n",
       "      <td>5.731157</td>\n",
       "      <td>5.734526</td>\n",
       "      <td>3.538734</td>\n",
       "    </tr>\n",
       "    <tr>\n",
       "      <th>std</th>\n",
       "      <td>0.474011</td>\n",
       "      <td>1.432621</td>\n",
       "      <td>2.234491</td>\n",
       "      <td>3989.439738</td>\n",
       "      <td>1.121761</td>\n",
       "      <td>1.142135</td>\n",
       "      <td>0.705699</td>\n",
       "    </tr>\n",
       "    <tr>\n",
       "      <th>min</th>\n",
       "      <td>0.200000</td>\n",
       "      <td>43.000000</td>\n",
       "      <td>43.000000</td>\n",
       "      <td>326.000000</td>\n",
       "      <td>0.000000</td>\n",
       "      <td>0.000000</td>\n",
       "      <td>0.000000</td>\n",
       "    </tr>\n",
       "    <tr>\n",
       "      <th>25%</th>\n",
       "      <td>0.400000</td>\n",
       "      <td>61.000000</td>\n",
       "      <td>56.000000</td>\n",
       "      <td>950.000000</td>\n",
       "      <td>4.710000</td>\n",
       "      <td>4.720000</td>\n",
       "      <td>2.910000</td>\n",
       "    </tr>\n",
       "    <tr>\n",
       "      <th>50%</th>\n",
       "      <td>0.700000</td>\n",
       "      <td>61.800000</td>\n",
       "      <td>57.000000</td>\n",
       "      <td>2401.000000</td>\n",
       "      <td>5.700000</td>\n",
       "      <td>5.710000</td>\n",
       "      <td>3.530000</td>\n",
       "    </tr>\n",
       "    <tr>\n",
       "      <th>75%</th>\n",
       "      <td>1.040000</td>\n",
       "      <td>62.500000</td>\n",
       "      <td>59.000000</td>\n",
       "      <td>5324.250000</td>\n",
       "      <td>6.540000</td>\n",
       "      <td>6.540000</td>\n",
       "      <td>4.040000</td>\n",
       "    </tr>\n",
       "    <tr>\n",
       "      <th>max</th>\n",
       "      <td>5.010000</td>\n",
       "      <td>79.000000</td>\n",
       "      <td>95.000000</td>\n",
       "      <td>18823.000000</td>\n",
       "      <td>10.740000</td>\n",
       "      <td>58.900000</td>\n",
       "      <td>31.800000</td>\n",
       "    </tr>\n",
       "  </tbody>\n",
       "</table>\n",
       "</div>"
      ],
      "text/plain": [
       "              carat         depth         table         price             x  \\\n",
       "count  53940.000000  53940.000000  53940.000000  53940.000000  53940.000000   \n",
       "mean       0.797940     61.749405     57.457184   3932.799722      5.731157   \n",
       "std        0.474011      1.432621      2.234491   3989.439738      1.121761   \n",
       "min        0.200000     43.000000     43.000000    326.000000      0.000000   \n",
       "25%        0.400000     61.000000     56.000000    950.000000      4.710000   \n",
       "50%        0.700000     61.800000     57.000000   2401.000000      5.700000   \n",
       "75%        1.040000     62.500000     59.000000   5324.250000      6.540000   \n",
       "max        5.010000     79.000000     95.000000  18823.000000     10.740000   \n",
       "\n",
       "                  y             z  \n",
       "count  53940.000000  53940.000000  \n",
       "mean       5.734526      3.538734  \n",
       "std        1.142135      0.705699  \n",
       "min        0.000000      0.000000  \n",
       "25%        4.720000      2.910000  \n",
       "50%        5.710000      3.530000  \n",
       "75%        6.540000      4.040000  \n",
       "max       58.900000     31.800000  "
      ]
     },
     "execution_count": 71,
     "metadata": {},
     "output_type": "execute_result"
    }
   ],
   "source": [
    "df.describe()"
   ]
  },
  {
   "cell_type": "markdown",
   "id": "01c38205",
   "metadata": {},
   "source": [
    "### Re-arranging the columns"
   ]
  },
  {
   "cell_type": "code",
   "execution_count": 72,
   "id": "215e8fe2",
   "metadata": {},
   "outputs": [],
   "source": [
    "df=df[['carat','cut','color','clarity','depth','table','x','y','z','price']]"
   ]
  },
  {
   "cell_type": "code",
   "execution_count": 73,
   "id": "2495af2e",
   "metadata": {},
   "outputs": [],
   "source": [
    "## Input and output dataset\n",
    "y=df['price']\n",
    "X=df.drop(['price'],axis=1)"
   ]
  },
  {
   "cell_type": "markdown",
   "id": "4fdb9277",
   "metadata": {},
   "source": [
    "## Train-Test-Split"
   ]
  },
  {
   "cell_type": "code",
   "execution_count": 74,
   "id": "e91ab357",
   "metadata": {},
   "outputs": [],
   "source": [
    "from sklearn.model_selection import train_test_split\n",
    "\n",
    "X_train, X_test, y_train, y_test = train_test_split(X, y, train_size=0.75, random_state=100)"
   ]
  },
  {
   "cell_type": "code",
   "execution_count": 75,
   "id": "d28dc00a",
   "metadata": {},
   "outputs": [
    {
     "data": {
      "text/html": [
       "<div>\n",
       "<style scoped>\n",
       "    .dataframe tbody tr th:only-of-type {\n",
       "        vertical-align: middle;\n",
       "    }\n",
       "\n",
       "    .dataframe tbody tr th {\n",
       "        vertical-align: top;\n",
       "    }\n",
       "\n",
       "    .dataframe thead th {\n",
       "        text-align: right;\n",
       "    }\n",
       "</style>\n",
       "<table border=\"1\" class=\"dataframe\">\n",
       "  <thead>\n",
       "    <tr style=\"text-align: right;\">\n",
       "      <th></th>\n",
       "      <th>cut</th>\n",
       "      <th>color</th>\n",
       "      <th>clarity</th>\n",
       "    </tr>\n",
       "  </thead>\n",
       "  <tbody>\n",
       "    <tr>\n",
       "      <th>33169</th>\n",
       "      <td>Ideal</td>\n",
       "      <td>D</td>\n",
       "      <td>VS1</td>\n",
       "    </tr>\n",
       "    <tr>\n",
       "      <th>53170</th>\n",
       "      <td>Premium</td>\n",
       "      <td>E</td>\n",
       "      <td>SI1</td>\n",
       "    </tr>\n",
       "    <tr>\n",
       "      <th>27846</th>\n",
       "      <td>Ideal</td>\n",
       "      <td>D</td>\n",
       "      <td>VS1</td>\n",
       "    </tr>\n",
       "    <tr>\n",
       "      <th>20880</th>\n",
       "      <td>Premium</td>\n",
       "      <td>F</td>\n",
       "      <td>VVS2</td>\n",
       "    </tr>\n",
       "    <tr>\n",
       "      <th>28554</th>\n",
       "      <td>Premium</td>\n",
       "      <td>H</td>\n",
       "      <td>VS1</td>\n",
       "    </tr>\n",
       "  </tbody>\n",
       "</table>\n",
       "</div>"
      ],
      "text/plain": [
       "           cut color clarity\n",
       "33169    Ideal     D     VS1\n",
       "53170  Premium     E     SI1\n",
       "27846    Ideal     D     VS1\n",
       "20880  Premium     F    VVS2\n",
       "28554  Premium     H     VS1"
      ]
     },
     "execution_count": 75,
     "metadata": {},
     "output_type": "execute_result"
    }
   ],
   "source": [
    "X_train_cat = X_train.select_dtypes(include=['object'])\n",
    "\n",
    "X_train_cat.head()"
   ]
  },
  {
   "cell_type": "markdown",
   "id": "fa6655d3",
   "metadata": {},
   "source": [
    "### Ordinal Encoder for categorical features"
   ]
  },
  {
   "cell_type": "code",
   "execution_count": 76,
   "id": "eb07755f",
   "metadata": {},
   "outputs": [],
   "source": [
    "from sklearn.preprocessing import OrdinalEncoder\n",
    "enc = OrdinalEncoder()"
   ]
  },
  {
   "cell_type": "code",
   "execution_count": 77,
   "id": "2044cae1",
   "metadata": {},
   "outputs": [],
   "source": [
    "X_train_catg = pd.DataFrame(enc.fit_transform(X_train_cat), \n",
    "                                    columns = X_train_cat.columns, \n",
    "                                    index = X_train_cat.index)"
   ]
  },
  {
   "cell_type": "code",
   "execution_count": 78,
   "id": "1ab94daf",
   "metadata": {},
   "outputs": [
    {
     "data": {
      "text/html": [
       "<div>\n",
       "<style scoped>\n",
       "    .dataframe tbody tr th:only-of-type {\n",
       "        vertical-align: middle;\n",
       "    }\n",
       "\n",
       "    .dataframe tbody tr th {\n",
       "        vertical-align: top;\n",
       "    }\n",
       "\n",
       "    .dataframe thead th {\n",
       "        text-align: right;\n",
       "    }\n",
       "</style>\n",
       "<table border=\"1\" class=\"dataframe\">\n",
       "  <thead>\n",
       "    <tr style=\"text-align: right;\">\n",
       "      <th></th>\n",
       "      <th>cut</th>\n",
       "      <th>color</th>\n",
       "      <th>clarity</th>\n",
       "    </tr>\n",
       "  </thead>\n",
       "  <tbody>\n",
       "    <tr>\n",
       "      <th>33169</th>\n",
       "      <td>2.0</td>\n",
       "      <td>0.0</td>\n",
       "      <td>4.0</td>\n",
       "    </tr>\n",
       "    <tr>\n",
       "      <th>53170</th>\n",
       "      <td>3.0</td>\n",
       "      <td>1.0</td>\n",
       "      <td>2.0</td>\n",
       "    </tr>\n",
       "    <tr>\n",
       "      <th>27846</th>\n",
       "      <td>2.0</td>\n",
       "      <td>0.0</td>\n",
       "      <td>4.0</td>\n",
       "    </tr>\n",
       "    <tr>\n",
       "      <th>20880</th>\n",
       "      <td>3.0</td>\n",
       "      <td>2.0</td>\n",
       "      <td>7.0</td>\n",
       "    </tr>\n",
       "    <tr>\n",
       "      <th>28554</th>\n",
       "      <td>3.0</td>\n",
       "      <td>4.0</td>\n",
       "      <td>4.0</td>\n",
       "    </tr>\n",
       "  </tbody>\n",
       "</table>\n",
       "</div>"
      ],
      "text/plain": [
       "       cut  color  clarity\n",
       "33169  2.0    0.0      4.0\n",
       "53170  3.0    1.0      2.0\n",
       "27846  2.0    0.0      4.0\n",
       "20880  3.0    2.0      7.0\n",
       "28554  3.0    4.0      4.0"
      ]
     },
     "execution_count": 78,
     "metadata": {},
     "output_type": "execute_result"
    }
   ],
   "source": [
    "X_train_catg.head()"
   ]
  },
  {
   "cell_type": "code",
   "execution_count": 79,
   "id": "2e3e7c9d",
   "metadata": {},
   "outputs": [
    {
     "data": {
      "text/html": [
       "<div>\n",
       "<style scoped>\n",
       "    .dataframe tbody tr th:only-of-type {\n",
       "        vertical-align: middle;\n",
       "    }\n",
       "\n",
       "    .dataframe tbody tr th {\n",
       "        vertical-align: top;\n",
       "    }\n",
       "\n",
       "    .dataframe thead th {\n",
       "        text-align: right;\n",
       "    }\n",
       "</style>\n",
       "<table border=\"1\" class=\"dataframe\">\n",
       "  <thead>\n",
       "    <tr style=\"text-align: right;\">\n",
       "      <th></th>\n",
       "      <th>carat</th>\n",
       "      <th>depth</th>\n",
       "      <th>table</th>\n",
       "      <th>x</th>\n",
       "      <th>y</th>\n",
       "      <th>z</th>\n",
       "    </tr>\n",
       "  </thead>\n",
       "  <tbody>\n",
       "    <tr>\n",
       "      <th>33169</th>\n",
       "      <td>0.30</td>\n",
       "      <td>61.9</td>\n",
       "      <td>54.1</td>\n",
       "      <td>4.28</td>\n",
       "      <td>4.33</td>\n",
       "      <td>2.67</td>\n",
       "    </tr>\n",
       "    <tr>\n",
       "      <th>53170</th>\n",
       "      <td>0.71</td>\n",
       "      <td>59.5</td>\n",
       "      <td>62.0</td>\n",
       "      <td>5.85</td>\n",
       "      <td>5.74</td>\n",
       "      <td>3.45</td>\n",
       "    </tr>\n",
       "    <tr>\n",
       "      <th>27846</th>\n",
       "      <td>0.30</td>\n",
       "      <td>62.2</td>\n",
       "      <td>56.0</td>\n",
       "      <td>4.27</td>\n",
       "      <td>4.31</td>\n",
       "      <td>2.67</td>\n",
       "    </tr>\n",
       "    <tr>\n",
       "      <th>20880</th>\n",
       "      <td>1.02</td>\n",
       "      <td>62.9</td>\n",
       "      <td>59.0</td>\n",
       "      <td>6.42</td>\n",
       "      <td>6.37</td>\n",
       "      <td>4.02</td>\n",
       "    </tr>\n",
       "    <tr>\n",
       "      <th>28554</th>\n",
       "      <td>0.30</td>\n",
       "      <td>60.1</td>\n",
       "      <td>61.0</td>\n",
       "      <td>4.32</td>\n",
       "      <td>4.30</td>\n",
       "      <td>2.59</td>\n",
       "    </tr>\n",
       "  </tbody>\n",
       "</table>\n",
       "</div>"
      ],
      "text/plain": [
       "       carat  depth  table     x     y     z\n",
       "33169   0.30   61.9   54.1  4.28  4.33  2.67\n",
       "53170   0.71   59.5   62.0  5.85  5.74  3.45\n",
       "27846   0.30   62.2   56.0  4.27  4.31  2.67\n",
       "20880   1.02   62.9   59.0  6.42  6.37  4.02\n",
       "28554   0.30   60.1   61.0  4.32  4.30  2.59"
      ]
     },
     "execution_count": 79,
     "metadata": {},
     "output_type": "execute_result"
    }
   ],
   "source": [
    "X_train_num = X_train.select_dtypes(include=['int64', 'float64'])\n",
    "\n",
    "X_train_num.head()"
   ]
  },
  {
   "cell_type": "markdown",
   "id": "29adabf6",
   "metadata": {},
   "source": [
    "### Standard Scaler for numerical features"
   ]
  },
  {
   "cell_type": "code",
   "execution_count": 80,
   "id": "1e9206dc",
   "metadata": {},
   "outputs": [],
   "source": [
    "from sklearn.preprocessing import StandardScaler\n",
    "\n",
    "scaler = StandardScaler()\n",
    "\n",
    "\n",
    "X_train_no = pd.DataFrame(scaler.fit_transform(X_train_num), \n",
    "                                    columns = X_train_num.columns, \n",
    "                                    index = X_train_num.index)"
   ]
  },
  {
   "cell_type": "code",
   "execution_count": 81,
   "id": "5e7be90e",
   "metadata": {},
   "outputs": [
    {
     "data": {
      "text/html": [
       "<div>\n",
       "<style scoped>\n",
       "    .dataframe tbody tr th:only-of-type {\n",
       "        vertical-align: middle;\n",
       "    }\n",
       "\n",
       "    .dataframe tbody tr th {\n",
       "        vertical-align: top;\n",
       "    }\n",
       "\n",
       "    .dataframe thead th {\n",
       "        text-align: right;\n",
       "    }\n",
       "</style>\n",
       "<table border=\"1\" class=\"dataframe\">\n",
       "  <thead>\n",
       "    <tr style=\"text-align: right;\">\n",
       "      <th></th>\n",
       "      <th>cut</th>\n",
       "      <th>color</th>\n",
       "      <th>clarity</th>\n",
       "      <th>carat</th>\n",
       "      <th>depth</th>\n",
       "      <th>table</th>\n",
       "      <th>x</th>\n",
       "      <th>y</th>\n",
       "      <th>z</th>\n",
       "    </tr>\n",
       "  </thead>\n",
       "  <tbody>\n",
       "    <tr>\n",
       "      <th>33169</th>\n",
       "      <td>2.0</td>\n",
       "      <td>0.0</td>\n",
       "      <td>4.0</td>\n",
       "      <td>-1.050294</td>\n",
       "      <td>0.099874</td>\n",
       "      <td>-1.495687</td>\n",
       "      <td>-1.293573</td>\n",
       "      <td>-1.220387</td>\n",
       "      <td>-1.249413</td>\n",
       "    </tr>\n",
       "    <tr>\n",
       "      <th>53170</th>\n",
       "      <td>3.0</td>\n",
       "      <td>1.0</td>\n",
       "      <td>2.0</td>\n",
       "      <td>-0.186302</td>\n",
       "      <td>-1.572250</td>\n",
       "      <td>2.031741</td>\n",
       "      <td>0.105090</td>\n",
       "      <td>0.003601</td>\n",
       "      <td>-0.128311</td>\n",
       "    </tr>\n",
       "    <tr>\n",
       "      <th>27846</th>\n",
       "      <td>2.0</td>\n",
       "      <td>0.0</td>\n",
       "      <td>4.0</td>\n",
       "      <td>-1.050294</td>\n",
       "      <td>0.308890</td>\n",
       "      <td>-0.647318</td>\n",
       "      <td>-1.302482</td>\n",
       "      <td>-1.237749</td>\n",
       "      <td>-1.249413</td>\n",
       "    </tr>\n",
       "    <tr>\n",
       "      <th>20880</th>\n",
       "      <td>3.0</td>\n",
       "      <td>2.0</td>\n",
       "      <td>7.0</td>\n",
       "      <td>0.466960</td>\n",
       "      <td>0.796592</td>\n",
       "      <td>0.692211</td>\n",
       "      <td>0.612885</td>\n",
       "      <td>0.550489</td>\n",
       "      <td>0.690955</td>\n",
       "    </tr>\n",
       "    <tr>\n",
       "      <th>28554</th>\n",
       "      <td>3.0</td>\n",
       "      <td>4.0</td>\n",
       "      <td>4.0</td>\n",
       "      <td>-1.050294</td>\n",
       "      <td>-1.154219</td>\n",
       "      <td>1.585231</td>\n",
       "      <td>-1.257938</td>\n",
       "      <td>-1.246430</td>\n",
       "      <td>-1.364397</td>\n",
       "    </tr>\n",
       "  </tbody>\n",
       "</table>\n",
       "</div>"
      ],
      "text/plain": [
       "       cut  color  clarity     carat     depth     table         x         y  \\\n",
       "33169  2.0    0.0      4.0 -1.050294  0.099874 -1.495687 -1.293573 -1.220387   \n",
       "53170  3.0    1.0      2.0 -0.186302 -1.572250  2.031741  0.105090  0.003601   \n",
       "27846  2.0    0.0      4.0 -1.050294  0.308890 -0.647318 -1.302482 -1.237749   \n",
       "20880  3.0    2.0      7.0  0.466960  0.796592  0.692211  0.612885  0.550489   \n",
       "28554  3.0    4.0      4.0 -1.050294 -1.154219  1.585231 -1.257938 -1.246430   \n",
       "\n",
       "              z  \n",
       "33169 -1.249413  \n",
       "53170 -0.128311  \n",
       "27846 -1.249413  \n",
       "20880  0.690955  \n",
       "28554 -1.364397  "
      ]
     },
     "execution_count": 81,
     "metadata": {},
     "output_type": "execute_result"
    }
   ],
   "source": [
    "X_train_rescaled = pd.concat([X_train_catg,X_train_no], axis=1)\n",
    "\n",
    "X_train_rescaled.head()"
   ]
  },
  {
   "cell_type": "markdown",
   "id": "de63acc9",
   "metadata": {},
   "source": [
    "### Preparing test data"
   ]
  },
  {
   "cell_type": "code",
   "execution_count": 82,
   "id": "9edef964",
   "metadata": {},
   "outputs": [
    {
     "data": {
      "text/html": [
       "<div>\n",
       "<style scoped>\n",
       "    .dataframe tbody tr th:only-of-type {\n",
       "        vertical-align: middle;\n",
       "    }\n",
       "\n",
       "    .dataframe tbody tr th {\n",
       "        vertical-align: top;\n",
       "    }\n",
       "\n",
       "    .dataframe thead th {\n",
       "        text-align: right;\n",
       "    }\n",
       "</style>\n",
       "<table border=\"1\" class=\"dataframe\">\n",
       "  <thead>\n",
       "    <tr style=\"text-align: right;\">\n",
       "      <th></th>\n",
       "      <th>cut</th>\n",
       "      <th>color</th>\n",
       "      <th>clarity</th>\n",
       "    </tr>\n",
       "  </thead>\n",
       "  <tbody>\n",
       "    <tr>\n",
       "      <th>52264</th>\n",
       "      <td>Ideal</td>\n",
       "      <td>E</td>\n",
       "      <td>VS2</td>\n",
       "    </tr>\n",
       "    <tr>\n",
       "      <th>21073</th>\n",
       "      <td>Ideal</td>\n",
       "      <td>G</td>\n",
       "      <td>VS1</td>\n",
       "    </tr>\n",
       "    <tr>\n",
       "      <th>42161</th>\n",
       "      <td>Ideal</td>\n",
       "      <td>G</td>\n",
       "      <td>SI1</td>\n",
       "    </tr>\n",
       "    <tr>\n",
       "      <th>35974</th>\n",
       "      <td>Ideal</td>\n",
       "      <td>F</td>\n",
       "      <td>VS1</td>\n",
       "    </tr>\n",
       "    <tr>\n",
       "      <th>7641</th>\n",
       "      <td>Premium</td>\n",
       "      <td>G</td>\n",
       "      <td>IF</td>\n",
       "    </tr>\n",
       "  </tbody>\n",
       "</table>\n",
       "</div>"
      ],
      "text/plain": [
       "           cut color clarity\n",
       "52264    Ideal     E     VS2\n",
       "21073    Ideal     G     VS1\n",
       "42161    Ideal     G     SI1\n",
       "35974    Ideal     F     VS1\n",
       "7641   Premium     G      IF"
      ]
     },
     "execution_count": 82,
     "metadata": {},
     "output_type": "execute_result"
    }
   ],
   "source": [
    "X_test_cat = X_test.select_dtypes(include=['object'])\n",
    "\n",
    "X_test_cat.head()"
   ]
  },
  {
   "cell_type": "code",
   "execution_count": 83,
   "id": "fb3ff319",
   "metadata": {},
   "outputs": [],
   "source": [
    "X_test_catg = pd.DataFrame(enc.transform(X_test_cat), \n",
    "                                    columns = X_test_cat.columns, \n",
    "                                    index = X_test_cat.index)"
   ]
  },
  {
   "cell_type": "code",
   "execution_count": 84,
   "id": "38645681",
   "metadata": {},
   "outputs": [
    {
     "data": {
      "text/html": [
       "<div>\n",
       "<style scoped>\n",
       "    .dataframe tbody tr th:only-of-type {\n",
       "        vertical-align: middle;\n",
       "    }\n",
       "\n",
       "    .dataframe tbody tr th {\n",
       "        vertical-align: top;\n",
       "    }\n",
       "\n",
       "    .dataframe thead th {\n",
       "        text-align: right;\n",
       "    }\n",
       "</style>\n",
       "<table border=\"1\" class=\"dataframe\">\n",
       "  <thead>\n",
       "    <tr style=\"text-align: right;\">\n",
       "      <th></th>\n",
       "      <th>carat</th>\n",
       "      <th>depth</th>\n",
       "      <th>table</th>\n",
       "      <th>x</th>\n",
       "      <th>y</th>\n",
       "      <th>z</th>\n",
       "    </tr>\n",
       "  </thead>\n",
       "  <tbody>\n",
       "    <tr>\n",
       "      <th>52264</th>\n",
       "      <td>0.57</td>\n",
       "      <td>61.5</td>\n",
       "      <td>57.0</td>\n",
       "      <td>5.35</td>\n",
       "      <td>5.32</td>\n",
       "      <td>3.28</td>\n",
       "    </tr>\n",
       "    <tr>\n",
       "      <th>21073</th>\n",
       "      <td>1.16</td>\n",
       "      <td>61.5</td>\n",
       "      <td>55.0</td>\n",
       "      <td>6.75</td>\n",
       "      <td>6.81</td>\n",
       "      <td>4.17</td>\n",
       "    </tr>\n",
       "    <tr>\n",
       "      <th>42161</th>\n",
       "      <td>0.51</td>\n",
       "      <td>63.2</td>\n",
       "      <td>58.0</td>\n",
       "      <td>5.05</td>\n",
       "      <td>5.08</td>\n",
       "      <td>3.20</td>\n",
       "    </tr>\n",
       "    <tr>\n",
       "      <th>35974</th>\n",
       "      <td>0.42</td>\n",
       "      <td>60.6</td>\n",
       "      <td>56.0</td>\n",
       "      <td>4.83</td>\n",
       "      <td>4.87</td>\n",
       "      <td>2.94</td>\n",
       "    </tr>\n",
       "    <tr>\n",
       "      <th>7641</th>\n",
       "      <td>0.80</td>\n",
       "      <td>62.6</td>\n",
       "      <td>58.0</td>\n",
       "      <td>5.89</td>\n",
       "      <td>5.93</td>\n",
       "      <td>3.70</td>\n",
       "    </tr>\n",
       "  </tbody>\n",
       "</table>\n",
       "</div>"
      ],
      "text/plain": [
       "       carat  depth  table     x     y     z\n",
       "52264   0.57   61.5   57.0  5.35  5.32  3.28\n",
       "21073   1.16   61.5   55.0  6.75  6.81  4.17\n",
       "42161   0.51   63.2   58.0  5.05  5.08  3.20\n",
       "35974   0.42   60.6   56.0  4.83  4.87  2.94\n",
       "7641    0.80   62.6   58.0  5.89  5.93  3.70"
      ]
     },
     "execution_count": 84,
     "metadata": {},
     "output_type": "execute_result"
    }
   ],
   "source": [
    "X_test_num = X_test.select_dtypes(include=['int64', 'float64'])\n",
    "\n",
    "X_test_num.head()"
   ]
  },
  {
   "cell_type": "code",
   "execution_count": 85,
   "id": "78bd78fc",
   "metadata": {},
   "outputs": [
    {
     "data": {
      "text/html": [
       "<div>\n",
       "<style scoped>\n",
       "    .dataframe tbody tr th:only-of-type {\n",
       "        vertical-align: middle;\n",
       "    }\n",
       "\n",
       "    .dataframe tbody tr th {\n",
       "        vertical-align: top;\n",
       "    }\n",
       "\n",
       "    .dataframe thead th {\n",
       "        text-align: right;\n",
       "    }\n",
       "</style>\n",
       "<table border=\"1\" class=\"dataframe\">\n",
       "  <thead>\n",
       "    <tr style=\"text-align: right;\">\n",
       "      <th></th>\n",
       "      <th>carat</th>\n",
       "      <th>depth</th>\n",
       "      <th>table</th>\n",
       "      <th>x</th>\n",
       "      <th>y</th>\n",
       "      <th>z</th>\n",
       "    </tr>\n",
       "  </thead>\n",
       "  <tbody>\n",
       "    <tr>\n",
       "      <th>52264</th>\n",
       "      <td>-0.481324</td>\n",
       "      <td>-0.178813</td>\n",
       "      <td>-0.200809</td>\n",
       "      <td>-0.340344</td>\n",
       "      <td>-0.360992</td>\n",
       "      <td>-0.372654</td>\n",
       "    </tr>\n",
       "    <tr>\n",
       "      <th>21073</th>\n",
       "      <td>0.761982</td>\n",
       "      <td>-0.178813</td>\n",
       "      <td>-1.093828</td>\n",
       "      <td>0.906871</td>\n",
       "      <td>0.932443</td>\n",
       "      <td>0.906552</td>\n",
       "    </tr>\n",
       "    <tr>\n",
       "      <th>42161</th>\n",
       "      <td>-0.607762</td>\n",
       "      <td>1.005608</td>\n",
       "      <td>0.245701</td>\n",
       "      <td>-0.607605</td>\n",
       "      <td>-0.569330</td>\n",
       "      <td>-0.487639</td>\n",
       "    </tr>\n",
       "    <tr>\n",
       "      <th>35974</th>\n",
       "      <td>-0.797419</td>\n",
       "      <td>-0.805860</td>\n",
       "      <td>-0.647318</td>\n",
       "      <td>-0.803596</td>\n",
       "      <td>-0.751626</td>\n",
       "      <td>-0.861339</td>\n",
       "    </tr>\n",
       "    <tr>\n",
       "      <th>7641</th>\n",
       "      <td>0.003355</td>\n",
       "      <td>0.587577</td>\n",
       "      <td>0.245701</td>\n",
       "      <td>0.140725</td>\n",
       "      <td>0.168535</td>\n",
       "      <td>0.231016</td>\n",
       "    </tr>\n",
       "  </tbody>\n",
       "</table>\n",
       "</div>"
      ],
      "text/plain": [
       "          carat     depth     table         x         y         z\n",
       "52264 -0.481324 -0.178813 -0.200809 -0.340344 -0.360992 -0.372654\n",
       "21073  0.761982 -0.178813 -1.093828  0.906871  0.932443  0.906552\n",
       "42161 -0.607762  1.005608  0.245701 -0.607605 -0.569330 -0.487639\n",
       "35974 -0.797419 -0.805860 -0.647318 -0.803596 -0.751626 -0.861339\n",
       "7641   0.003355  0.587577  0.245701  0.140725  0.168535  0.231016"
      ]
     },
     "execution_count": 85,
     "metadata": {},
     "output_type": "execute_result"
    }
   ],
   "source": [
    "X_test_no = pd.DataFrame(scaler.transform(X_test_num), \n",
    "                                    columns = X_test_num.columns, \n",
    "                                    index = X_test_num.index)\n",
    "\n",
    "X_test_no.head()"
   ]
  },
  {
   "cell_type": "code",
   "execution_count": 86,
   "id": "67b020f8",
   "metadata": {},
   "outputs": [
    {
     "data": {
      "text/html": [
       "<div>\n",
       "<style scoped>\n",
       "    .dataframe tbody tr th:only-of-type {\n",
       "        vertical-align: middle;\n",
       "    }\n",
       "\n",
       "    .dataframe tbody tr th {\n",
       "        vertical-align: top;\n",
       "    }\n",
       "\n",
       "    .dataframe thead th {\n",
       "        text-align: right;\n",
       "    }\n",
       "</style>\n",
       "<table border=\"1\" class=\"dataframe\">\n",
       "  <thead>\n",
       "    <tr style=\"text-align: right;\">\n",
       "      <th></th>\n",
       "      <th>cut</th>\n",
       "      <th>color</th>\n",
       "      <th>clarity</th>\n",
       "      <th>carat</th>\n",
       "      <th>depth</th>\n",
       "      <th>table</th>\n",
       "      <th>x</th>\n",
       "      <th>y</th>\n",
       "      <th>z</th>\n",
       "    </tr>\n",
       "  </thead>\n",
       "  <tbody>\n",
       "    <tr>\n",
       "      <th>52264</th>\n",
       "      <td>2.0</td>\n",
       "      <td>1.0</td>\n",
       "      <td>5.0</td>\n",
       "      <td>-0.481324</td>\n",
       "      <td>-0.178813</td>\n",
       "      <td>-0.200809</td>\n",
       "      <td>-0.340344</td>\n",
       "      <td>-0.360992</td>\n",
       "      <td>-0.372654</td>\n",
       "    </tr>\n",
       "    <tr>\n",
       "      <th>21073</th>\n",
       "      <td>2.0</td>\n",
       "      <td>3.0</td>\n",
       "      <td>4.0</td>\n",
       "      <td>0.761982</td>\n",
       "      <td>-0.178813</td>\n",
       "      <td>-1.093828</td>\n",
       "      <td>0.906871</td>\n",
       "      <td>0.932443</td>\n",
       "      <td>0.906552</td>\n",
       "    </tr>\n",
       "    <tr>\n",
       "      <th>42161</th>\n",
       "      <td>2.0</td>\n",
       "      <td>3.0</td>\n",
       "      <td>2.0</td>\n",
       "      <td>-0.607762</td>\n",
       "      <td>1.005608</td>\n",
       "      <td>0.245701</td>\n",
       "      <td>-0.607605</td>\n",
       "      <td>-0.569330</td>\n",
       "      <td>-0.487639</td>\n",
       "    </tr>\n",
       "    <tr>\n",
       "      <th>35974</th>\n",
       "      <td>2.0</td>\n",
       "      <td>2.0</td>\n",
       "      <td>4.0</td>\n",
       "      <td>-0.797419</td>\n",
       "      <td>-0.805860</td>\n",
       "      <td>-0.647318</td>\n",
       "      <td>-0.803596</td>\n",
       "      <td>-0.751626</td>\n",
       "      <td>-0.861339</td>\n",
       "    </tr>\n",
       "    <tr>\n",
       "      <th>7641</th>\n",
       "      <td>3.0</td>\n",
       "      <td>3.0</td>\n",
       "      <td>1.0</td>\n",
       "      <td>0.003355</td>\n",
       "      <td>0.587577</td>\n",
       "      <td>0.245701</td>\n",
       "      <td>0.140725</td>\n",
       "      <td>0.168535</td>\n",
       "      <td>0.231016</td>\n",
       "    </tr>\n",
       "  </tbody>\n",
       "</table>\n",
       "</div>"
      ],
      "text/plain": [
       "       cut  color  clarity     carat     depth     table         x         y  \\\n",
       "52264  2.0    1.0      5.0 -0.481324 -0.178813 -0.200809 -0.340344 -0.360992   \n",
       "21073  2.0    3.0      4.0  0.761982 -0.178813 -1.093828  0.906871  0.932443   \n",
       "42161  2.0    3.0      2.0 -0.607762  1.005608  0.245701 -0.607605 -0.569330   \n",
       "35974  2.0    2.0      4.0 -0.797419 -0.805860 -0.647318 -0.803596 -0.751626   \n",
       "7641   3.0    3.0      1.0  0.003355  0.587577  0.245701  0.140725  0.168535   \n",
       "\n",
       "              z  \n",
       "52264 -0.372654  \n",
       "21073  0.906552  \n",
       "42161 -0.487639  \n",
       "35974 -0.861339  \n",
       "7641   0.231016  "
      ]
     },
     "execution_count": 86,
     "metadata": {},
     "output_type": "execute_result"
    }
   ],
   "source": [
    "X_test_rescaled = pd.concat([X_test_catg,X_test_no], axis=1)\n",
    "\n",
    "X_test_rescaled.head()"
   ]
  },
  {
   "cell_type": "markdown",
   "id": "648b4c7f",
   "metadata": {},
   "source": [
    "# Introduction to Experiment Tracking "
   ]
  },
  {
   "cell_type": "markdown",
   "id": "8a435e36",
   "metadata": {},
   "source": [
    "#### Terminologies:"
   ]
  },
  {
   "cell_type": "markdown",
   "id": "5957c94b",
   "metadata": {},
   "source": [
    "    1.Experiment\n",
    "    2.Run\n",
    "    3.Metadata (i.e. Tags, Parameters, Metrics)\n",
    "    3.Artifacts (i.e. Output files associated with experiment runs)"
   ]
  },
  {
   "cell_type": "markdown",
   "id": "be0da7fa",
   "metadata": {},
   "source": [
    "#### What do you want to track for each Experiment Run?"
   ]
  },
  {
   "cell_type": "markdown",
   "id": "1b15f1b1",
   "metadata": {},
   "source": [
    "    1.Training and Validation Data Used\n",
    "    2.Hyperparameters\n",
    "    3.Metrics\n",
    "    4.Models"
   ]
  },
  {
   "cell_type": "markdown",
   "id": "2ae72bb2",
   "metadata": {},
   "source": [
    "#### Why Track?"
   ]
  },
  {
   "cell_type": "markdown",
   "id": "226feac3",
   "metadata": {},
   "source": [
    "Organization Optimization Reproducibility"
   ]
  },
  {
   "cell_type": "markdown",
   "id": "97e67d10",
   "metadata": {},
   "source": [
    "#### Tool - MLFlow"
   ]
  },
  {
   "cell_type": "markdown",
   "id": "0d9b0aef",
   "metadata": {},
   "source": [
    "MLFlow helps you to organize your experiments into runs."
   ]
  },
  {
   "cell_type": "markdown",
   "id": "8d8d7666",
   "metadata": {},
   "source": [
    "#### MLFlow keeps track of:"
   ]
  },
  {
   "cell_type": "markdown",
   "id": "7a43eef6",
   "metadata": {},
   "source": [
    "    Tags\n",
    "    Parameters\n",
    "    Metrics\n",
    "    Models\n",
    "    Artifact\n",
    "    Source code, Start and End Time, Authors etc.."
   ]
  },
  {
   "cell_type": "markdown",
   "id": "57287dff",
   "metadata": {},
   "source": [
    "#### Run below mentioned commands to install mlflow on your system:"
   ]
  },
  {
   "cell_type": "markdown",
   "id": "76360b2b",
   "metadata": {},
   "source": [
    "    pip install mlflow\n",
    "    mlflow ui --backend-store-uri sqlite:///mlflow.db"
   ]
  },
  {
   "cell_type": "markdown",
   "id": "1712ff76",
   "metadata": {},
   "source": [
    "# Introduction to MLFlow"
   ]
  },
  {
   "cell_type": "markdown",
   "id": "6f3fe637",
   "metadata": {},
   "source": [
    "#### Step 1 - Import MLFlow"
   ]
  },
  {
   "cell_type": "markdown",
   "id": "70c025cc",
   "metadata": {},
   "source": [
    "    import mlflow"
   ]
  },
  {
   "cell_type": "markdown",
   "id": "37d26f3d",
   "metadata": {},
   "source": [
    "#### Step 2 - Set the tracker and experiment"
   ]
  },
  {
   "cell_type": "markdown",
   "id": "19f9d6cf",
   "metadata": {},
   "source": [
    "    mlflow.set_tracking_uri(DATABASE_URI)\n",
    "    mlflow.set_experiment(\"EXPERIMENT_NAME\")"
   ]
  },
  {
   "cell_type": "markdown",
   "id": "79c4f55c",
   "metadata": {},
   "source": [
    "#### Step 3 - Start a experiment run"
   ]
  },
  {
   "cell_type": "markdown",
   "id": "dee91589",
   "metadata": {},
   "source": [
    "    with mlflow.start_run():"
   ]
  },
  {
   "cell_type": "markdown",
   "id": "8e697205",
   "metadata": {},
   "source": [
    "#### Step 4 - Logging the metadata"
   ]
  },
  {
   "cell_type": "markdown",
   "id": "f7c1100b",
   "metadata": {},
   "source": [
    "    mlflow.set_tag(KEY, VALUE)\n",
    "    mlflow.log_param(KEY, VALUE) \n",
    "    mlflow.log_metric(KEY, VALUE)"
   ]
  },
  {
   "cell_type": "markdown",
   "id": "f5bd5098",
   "metadata": {},
   "source": [
    "#### Step 5 - Logging the model and other files (2 ways)"
   ]
  },
  {
   "cell_type": "markdown",
   "id": "362cc1fe",
   "metadata": {},
   "source": [
    "    Way 1 - mlflow.<FRAMEWORK>.log_model(MODEL_OBJECT, artifact_path=\"PATH\")\n",
    "    Way 2 - mlflow.log_artifact(LOCAL_PATH, artifact_path=\"PATH\")"
   ]
  },
  {
   "cell_type": "markdown",
   "id": "9e8fd0e8",
   "metadata": {},
   "source": [
    "# Running the Experiment"
   ]
  },
  {
   "cell_type": "code",
   "execution_count": 87,
   "id": "f1935218",
   "metadata": {},
   "outputs": [],
   "source": [
    "import mlflow"
   ]
  },
  {
   "cell_type": "code",
   "execution_count": 88,
   "id": "0de13dfb",
   "metadata": {},
   "outputs": [
    {
     "name": "stderr",
     "output_type": "stream",
     "text": [
      "2022/09/19 13:28:55 INFO mlflow.tracking.fluent: Experiment with name 'Diamond Price Prediction' does not exist. Creating a new experiment.\n"
     ]
    },
    {
     "data": {
      "text/plain": [
       "<Experiment: artifact_location='./mlruns/1', experiment_id='1', lifecycle_stage='active', name='Diamond Price Prediction', tags={}>"
      ]
     },
     "execution_count": 88,
     "metadata": {},
     "output_type": "execute_result"
    }
   ],
   "source": [
    "mlflow.set_tracking_uri(\"sqlite:///mlflow.db\")\n",
    "\n",
    "mlflow.set_experiment(\"Diamond Price Prediction\")"
   ]
  },
  {
   "cell_type": "code",
   "execution_count": 89,
   "id": "bf88507f",
   "metadata": {},
   "outputs": [],
   "source": [
    "from sklearn.neighbors import KNeighborsRegressor\n",
    "from sklearn.linear_model import LinearRegression\n",
    "from sklearn.tree import DecisionTreeRegressor\n",
    "from sklearn.ensemble import RandomForestRegressor\n",
    "from sklearn.svm import SVR\n",
    "from sklearn.ensemble import GradientBoostingRegressor\n",
    "\n",
    "from sklearn import metrics"
   ]
  },
  {
   "cell_type": "code",
   "execution_count": 90,
   "id": "7978b936",
   "metadata": {},
   "outputs": [],
   "source": [
    "from pickle import dump\n",
    "dump(enc,open('pickle_files/Ordinal_Encoder.pkl','wb'))\n",
    "dump(scaler, open('pickle_files/Standard_Scaler.pkl', 'wb'))"
   ]
  },
  {
   "cell_type": "markdown",
   "id": "1b8248ed",
   "metadata": {},
   "source": [
    "## Experiment 1 - Training KNN Regressor\n"
   ]
  },
  {
   "cell_type": "code",
   "execution_count": 91,
   "id": "6787ab20",
   "metadata": {},
   "outputs": [],
   "source": [
    "with mlflow.start_run():\n",
    "    mlflow.set_tag(\"dev\", \"Veena Grace\")\n",
    "    mlflow.set_tag(\"algo\", \"KNN\")\n",
    "    # log the data for each run using log_param, log_metric, log_model\n",
    "    mlflow.log_param(\"data-path\", \"data/diamonds.csv\")\n",
    "    k = 3\n",
    "    mlflow.log_param(\"n_neighbors\", k)\n",
    "    knn_regressor = KNeighborsRegressor(n_neighbors=k)\n",
    "    knn_regressor.fit(X_train_rescaled, y_train)\n",
    "    y_test_pred = knn_regressor.predict(X_test_rescaled)\n",
    "    MAE = metrics.mean_absolute_error(y_test, y_test_pred)\n",
    "    mlflow.log_metric(\"Mean Absolute error\",MAE)\n",
    "    mlflow.sklearn.log_model(knn_regressor, artifact_path=\"models\")\n",
    "    mlflow.log_artifact(\"pickle_files/Standard_Scaler.pkl\")\n",
    "    mlflow.log_artifact(\"pickle_files/Ordinal_Encoder.pkl\")"
   ]
  },
  {
   "cell_type": "markdown",
   "id": "08b2c162",
   "metadata": {},
   "source": [
    "## Experiment 2 - Training Linear Regression"
   ]
  },
  {
   "cell_type": "code",
   "execution_count": 92,
   "id": "221dd8ee",
   "metadata": {},
   "outputs": [],
   "source": [
    "with mlflow.start_run():\n",
    "    mlflow.set_tag(\"dev\", \"Veena Grace\")\n",
    "    mlflow.set_tag(\"algo\", \"Linear-Reg\")\n",
    "    # log the data for each run using log_param, log_metric, log_model\n",
    "    mlflow.log_param(\"data-path\", \"data/diamonds.csv\")\n",
    "    C = 0.1\n",
    "    mlflow.log_param(\"C\", C)\n",
    "    linear_regressor = LinearRegression()\n",
    "    linear_regressor.fit(X_train_rescaled, y_train)\n",
    "    y_test_pred = linear_regressor.predict(X_test_rescaled)\n",
    "    MAE = metrics.mean_absolute_error(y_test, y_test_pred)\n",
    "    mlflow.log_metric(\"Mean Absolute error\",MAE)\n",
    "    mlflow.sklearn.log_model(linear_regressor, artifact_path=\"models\")\n",
    "    mlflow.log_artifact(\"pickle_files/Standard_Scaler.pkl\")\n",
    "    mlflow.log_artifact(\"pickle_files/Ordinal_Encoder.pkl\")"
   ]
  },
  {
   "cell_type": "markdown",
   "id": "532ee84a",
   "metadata": {},
   "source": [
    "## Experiment 3 - Training Decision Tree"
   ]
  },
  {
   "cell_type": "code",
   "execution_count": 93,
   "id": "c58a92e7",
   "metadata": {},
   "outputs": [],
   "source": [
    "with mlflow.start_run():\n",
    "    mlflow.set_tag(\"dev\", \"Veena Grace\")\n",
    "    mlflow.set_tag(\"algo\", \"DT-Reg\")\n",
    "    # log the data for each run using log_param, log_metric, log_model\n",
    "    mlflow.log_param(\"data-path\", \"data/diamonds.csv\")\n",
    "    d=5\n",
    "    f='auto'\n",
    "    l=50\n",
    "    mlflow.log_param(\"max_depth\",d)\n",
    "    mlflow.log_param(\"max_features\",f)\n",
    "    mlflow.log_param(\"max_leaf_nodes\",l)\n",
    "    dt_regressor = DecisionTreeRegressor(max_depth=d,max_features=f,max_leaf_nodes=l)\n",
    "    dt_regressor.fit(X_train_rescaled, y_train)\n",
    "    y_test_pred = dt_regressor.predict(X_test_rescaled)\n",
    "    MAE = metrics.mean_absolute_error(y_test, y_test_pred)\n",
    "    mlflow.log_metric(\"Mean Absolute error\",MAE)\n",
    "    mlflow.sklearn.log_model(dt_regressor, artifact_path=\"models\")\n",
    "    mlflow.log_artifact(\"pickle_files/Standard_Scaler.pkl\")\n",
    "    mlflow.log_artifact(\"pickle_files/Ordinal_Encoder.pkl\")"
   ]
  },
  {
   "cell_type": "markdown",
   "id": "fc2b4e1b",
   "metadata": {},
   "source": [
    "## Experiment 4 - Training Random Forest Regressor"
   ]
  },
  {
   "cell_type": "code",
   "execution_count": 94,
   "id": "9e049047",
   "metadata": {},
   "outputs": [],
   "source": [
    "with mlflow.start_run():\n",
    "    mlflow.set_tag(\"dev\", \"Veena Grace\")\n",
    "    mlflow.set_tag(\"algo\", \"RF-Reg\")\n",
    "    # log the data for each run using log_param, log_metric, log_model\n",
    "    mlflow.log_param(\"data-path\", \"data/diamonds.csv\")\n",
    "    d=5\n",
    "    f='auto'\n",
    "    l=50\n",
    "    n=100\n",
    "    mlflow.log_param(\"max_depth\",d)\n",
    "    mlflow.log_param(\"max_features\",f)\n",
    "    mlflow.log_param(\"max_leaf_nodes\",l)\n",
    "    mlflow.log_param(\"n_estimators\",n)\n",
    "    rf_regressor = RandomForestRegressor(max_depth=d,max_features=f,max_leaf_nodes=l,n_estimators=n)\n",
    "    rf_regressor.fit(X_train_rescaled, y_train)\n",
    "    y_test_pred = rf_regressor.predict(X_test_rescaled)\n",
    "    MAE = metrics.mean_absolute_error(y_test, y_test_pred)\n",
    "    mlflow.log_metric(\"Mean Absolute error\",MAE)\n",
    "    mlflow.sklearn.log_model(rf_regressor, artifact_path=\"models\")\n",
    "    mlflow.log_artifact(\"pickle_files/Standard_Scaler.pkl\")\n",
    "    mlflow.log_artifact(\"pickle_files/Ordinal_Encoder.pkl\")"
   ]
  },
  {
   "cell_type": "markdown",
   "id": "592f21a9",
   "metadata": {},
   "source": [
    "## Experiment 5 - Training Support Vector Regressor"
   ]
  },
  {
   "cell_type": "code",
   "execution_count": 96,
   "id": "0a528c20",
   "metadata": {},
   "outputs": [],
   "source": [
    "with mlflow.start_run():\n",
    "    mlflow.set_tag(\"dev\", \"Veena Grace\")\n",
    "    mlflow.set_tag(\"algo\", \"SV-Reg\")\n",
    "    # log the data for each run using log_param, log_metric, log_model\n",
    "    mlflow.log_param(\"data-path\", \"data/diamonds.csv\")\n",
    "    C = 0.1\n",
    "    mlflow.log_param(\"C\", C)\n",
    "    sv_regressor = SVR(C=C)\n",
    "    sv_regressor.fit(X_train_rescaled, y_train)\n",
    "    y_test_pred = sv_regressor.predict(X_test_rescaled)\n",
    "    MAE = metrics.mean_absolute_error(y_test, y_test_pred)\n",
    "    mlflow.log_metric(\"Mean Absolute error\",MAE)\n",
    "    mlflow.sklearn.log_model(sv_regressor, artifact_path=\"models\")\n",
    "    mlflow.log_artifact(\"pickle_files/Standard_Scaler.pkl\")\n",
    "    mlflow.log_artifact(\"pickle_files/Ordinal_Encoder.pkl\")"
   ]
  },
  {
   "cell_type": "markdown",
   "id": "5a0a991d",
   "metadata": {},
   "source": [
    "## Experiment 6- Training Gradient Boosting Regressor"
   ]
  },
  {
   "cell_type": "code",
   "execution_count": 95,
   "id": "a7d21a8b",
   "metadata": {},
   "outputs": [],
   "source": [
    "with mlflow.start_run():\n",
    "    mlflow.set_tag(\"dev\", \"Veena Grace\")\n",
    "    mlflow.set_tag(\"algo\", \"GradBoost-Reg\")\n",
    "    # log the data for each run using log_param, log_metric, log_model\n",
    "    mlflow.log_param(\"data-path\", \"data/diamonds.csv\")\n",
    "    d=5\n",
    "    r=0.1\n",
    "    n=100\n",
    "    mlflow.log_param(\"max_depth\",d)\n",
    "    mlflow.log_param(\"learning_rate\",r)\n",
    "    mlflow.log_param(\"n_estimators\",n)\n",
    "    gb_regressor = GradientBoostingRegressor(max_depth=d,learning_rate=r,n_estimators=n)\n",
    "    gb_regressor.fit(X_train_rescaled, y_train)\n",
    "    y_test_pred = gb_regressor.predict(X_test_rescaled)\n",
    "    MAE = metrics.mean_absolute_error(y_test, y_test_pred)\n",
    "    mlflow.log_metric(\"Mean Absolute error\",MAE)\n",
    "    mlflow.sklearn.log_model(gb_regressor, artifact_path=\"models\")\n",
    "    mlflow.log_artifact(\"pickle_files/Standard_Scaler.pkl\")\n",
    "    mlflow.log_artifact(\"pickle_files/Ordinal_Encoder.pkl\")"
   ]
  },
  {
   "cell_type": "markdown",
   "id": "26da6ead",
   "metadata": {},
   "source": [
    "## Experiment 7- Training KNN Regressor with Hyperparameter Tuning"
   ]
  },
  {
   "cell_type": "code",
   "execution_count": null,
   "id": "7b27ab27",
   "metadata": {},
   "outputs": [],
   "source": [
    "# Enabling automatic MLflow logging for scikit-learn runs\n",
    "mlflow.sklearn.autolog(max_tuning_runs=None)\n",
    "\n",
    "with mlflow.start_run():\n",
    "    tuned_parameters = [{'n_neighbors':[i for i in range(1, 51)], 'p':[1, 2]}]\n",
    "\n",
    "    reg = GridSearchCV(\n",
    "        estimator=KNeighborsRegressor(), \n",
    "        param_grid=tuned_parameters, \n",
    "        scoring='neg_mean_absolute_error',\n",
    "        cv=5,\n",
    "        return_train_score=True,\n",
    "        verbose=1\n",
    "    )\n",
    "    reg.fit(X_train_transformed, y_train)\n",
    "    \n",
    "    # Disabling autologging\n",
    "    mlflow.sklearn.autolog(disable=True)"
   ]
  }
 ],
 "metadata": {
  "kernelspec": {
   "display_name": "Python 3 (ipykernel)",
   "language": "python",
   "name": "python3"
  },
  "language_info": {
   "codemirror_mode": {
    "name": "ipython",
    "version": 3
   },
   "file_extension": ".py",
   "mimetype": "text/x-python",
   "name": "python",
   "nbconvert_exporter": "python",
   "pygments_lexer": "ipython3",
   "version": "3.7.13"
  }
 },
 "nbformat": 4,
 "nbformat_minor": 5
}
